{
  "cells": [
    {
      "cell_type": "markdown",
      "source": [
        "# Le problème de la copie des variables\n",
        "\n",
        "Nous avons vu précédemment que les variables se copiaient de manière différente suivant leur type. Nous allons dans ce notebook aller explorer dans les entrailles de la machine l'implémentation des différents types de variable, pour expliquer ces différences.  \n",
        "Nous utiliserons l'instruction qui donne l' \"identité\" d'une variable : `id(variable)`. C'est en fait l'adresse mémoire de la variable. Cette adresse est renvoyée en décimal (base 10).  \n",
        "Compléter le code ci-dessous pour obtenir l'adresse en hexadécimal, ce qui est plus standard."
      ],
      "metadata": {}
    },
    {
      "cell_type": "code",
      "source": [
        "a = 3\n",
        "print(id(a))"
      ],
      "outputs": [],
      "execution_count": null,
      "metadata": {}
    },
    {
      "cell_type": "markdown",
      "source": [
        "La cellule suivante contient une fonction `adresse(variable)` qui renvoie l'adresse en hexadécimal, ainsi que le type, d'une variable. Cette fonction nous servira pour toute la suite du notebook. La variable est de type quelconque. Exécuter la cellule pour disposer de cette fonction dans la suite du notebook."
      ],
      "metadata": {}
    },
    {
      "cell_type": "code",
      "source": [
        "def adresse(variable):\n",
        "    \"\"\"\n",
        "    Renvoie l'adresse en hexadécimal et le type d'une variable quelconque\n",
        "    \"\"\"\n",
        "    adr = hex(id(variable))\n",
        "    typ = type(variable)\n",
        "    return adr,typ"
      ],
      "outputs": [],
      "execution_count": null,
      "metadata": {}
    },
    {
      "cell_type": "markdown",
      "source": [
        "\n",
        "## Copie et modification des entiers, flottants, chaînes de caractères.\n",
        "Exécuter la cellule de code suivante. Changer la variable en un flottant, puis une chaîne de caractères.  "
      ],
      "metadata": {}
    },
    {
      "cell_type": "code",
      "source": [
        "var_1 = 3\n",
        "var_2 = var_1    #TEST de la copie de variable\n",
        "(adr_1,typ_1) = adresse(var_1)\n",
        "(adr_2,typ_2) = adresse(var_2)\n",
        "print(\"la variable var_1 est un \",typ_1,\" d'adresse \",adr_1)\n",
        "print(\"la variable var_2 est un \",typ_2,\" d'adresse \",adr_2)"
      ],
      "outputs": [],
      "execution_count": null,
      "metadata": {}
    },
    {
      "cell_type": "markdown",
      "source": [
        "Modifions la valeur de `var_2`"
      ],
      "metadata": {}
    },
    {
      "cell_type": "code",
      "source": [
        "var_1 = 3\n",
        "var_2 = var_1    #TEST de la copie de variable\n",
        "(adr_1,typ_1) = adresse(var_1)\n",
        "(adr_2,typ_2) = adresse(var_2)\n",
        "print(\"la variable var_1 est un \",typ_1,\" d'adresse \",adr_1)\n",
        "print(\"la variable var_2 est un \",typ_2,\" d'adresse \",adr_2)\n",
        "print(\"modification de la valeur de var_2\")\n",
        "var_2 = var_2 + 1\n",
        "(adr_2,typ_2) = adresse(var_2)\n",
        "print(\"la variable var_2 est un \",typ_2,\" d'adresse \",adr_2)"
      ],
      "outputs": [],
      "execution_count": null,
      "metadata": {}
    },
    {
      "cell_type": "markdown",
      "source": [
        "__Compléter__ et __retenir__ le paragraphe de cours suivant:  \n",
        "Lors d'une modification de la valeur d'un entier, d'un flottant ou d'une chaîne,...  \n",
        "Ces variables sont dites __immuables__ (immutable in english) : on ne peut pas les \"modifier\", dans le sens où l'on ne peut pas modifier le contenu de leur adresse mémoire. A chaque modification dans l'exécution d'un programme, Python crée une nouvelle variable de même nom, à un autre emplacement mémoire. L'avantage est la sécurité (pas de modification involontaire de la valeur de la variable), l'inconvénient une certain inefficacité (perte de temps et d'espace mémoire)."
      ],
      "metadata": {}
    },
    {
      "cell_type": "markdown",
      "source": [
        "## Copie et modification des listes (dictionnaires, tuples, ...)\n",
        "Reprenons le code précédent, avec une liste"
      ],
      "metadata": {}
    },
    {
      "cell_type": "code",
      "source": [
        "var_1 = [1,2,3]\n",
        "var_2 = var_1    #TEST de la copie de variable\n",
        "(adr_1,typ_1) = adresse(var_1)\n",
        "(adr_2,typ_2) = adresse(var_2)\n",
        "print(\"la variable var_1 est un \",typ_1,\" d'adresse \",adr_1)\n",
        "print(\"la variable var_2 est un \",typ_2,\" d'adresse \",adr_2)\n",
        "print(\"modification de la valeur de var_2\")\n",
        "var_2[2]= 5\n",
        "print(\"var_1 \",var_1)\n",
        "print(\"var_2 \",var_2)\n",
        "(adr_2,typ_2) = adresse(var_2)\n",
        "print(\"la variable var_1 est un \",typ_1,\" d'adresse \",adr_1)\n",
        "print(\"la variable var_2 est un \",typ_2,\" d'adresse \",adr_2)\n"
      ],
      "outputs": [],
      "execution_count": null,
      "metadata": {}
    },
    {
      "cell_type": "markdown",
      "source": [
        "__Compléter__ et __retenir__ le paragraphe de cours suivant:  \n",
        "Lors d'une modification de la valeur d'une liste...  \n",
        "Ces variables sont dites __muables__ (mutable in english) : on change le contenu de leur adresse mémoire à chaque modification dans l'exécution d'un programme. Par rapport à une variable immuable, on gagne en efficaicté et on perd en sécurité.\n",
        "\n",
        "## Copie de listes bis\n",
        "Observons le résultat de l'instruction `liste_2 = liste_1[:]`"
      ],
      "metadata": {}
    },
    {
      "cell_type": "code",
      "source": [
        "var_1 = [1,2,3]\n",
        "var_2 = var_1[:]    #TEST de la copie de variable\n",
        "(adr_1,typ_1) = adresse(var_1)\n",
        "(adr_2,typ_2) = adresse(var_2)\n",
        "print(\"la variable var_1 est un \",typ_1,\" d'adresse \",adr_1)\n",
        "print(\"la variable var_2 est un \",typ_2,\" d'adresse \",adr_2)\n",
        "print(\"modification de la valeur de var_2\")\n",
        "var_2[2]= 5\n",
        "print(\"var_1 \",var_1)\n",
        "print(\"var_2 \",var_2)"
      ],
      "outputs": [],
      "execution_count": null,
      "metadata": {}
    },
    {
      "cell_type": "markdown",
      "source": [
        "Conclure:\n",
        "\n",
        "\n",
        "### Une deuxième méthode de copie\n",
        "La méthode `var_2 = var_1.copy()` permet également de faire une copie \"propre\" de la liste."
      ],
      "metadata": {}
    },
    {
      "cell_type": "code",
      "source": [
        "var_1 = [1,2,3]\n",
        "var_2 = var_1.copy()    #TEST de la copie de variable\n",
        "(adr_1,typ_1) = adresse(var_1)\n",
        "(adr_2,typ_2) = adresse(var_2)\n",
        "print(\"la variable var_1 est un \",typ_1,\" d'adresse \",adr_1)\n",
        "print(\"la variable var_2 est un \",typ_2,\" d'adresse \",adr_2)\n",
        "print(\"modification de la valeur de var_2\")\n",
        "var_2[2]= 5\n",
        "print(\"var_1 \",var_1)\n",
        "print(\"var_2 \",var_2)"
      ],
      "outputs": [],
      "execution_count": null,
      "metadata": {}
    },
    {
      "cell_type": "markdown",
      "source": [
        "## Passage des paramètres dans une fonction\n",
        "La fonction ci-dessous est construite pour fonctionner avec des entiers, des flottants, des chaînes ou des listes.  \n",
        "Testez-là avec tous ces types de variables, et écrivez votre conclusion dans l'encadré ci-après. Ceci sera à retenir, en effet lors de l'écriture d'un programme (et donc du ou des projets) la manière dont sont passés les paramètres a une grande importance."
      ],
      "metadata": {}
    },
    {
      "cell_type": "code",
      "source": [
        "from copy import copy\n",
        "def double_ou_rien(variable,adres):\n",
        "    \"\"\"\n",
        "    Est censé renvoyer la variable non modifiée\n",
        "    A l'intérieur de la fonction:\n",
        "        Un nombre est multiplié par deux\n",
        "        Une chaine ou une liste est concaténée à elle-même\n",
        "    \"\"\"\n",
        "\n",
        "    if type(variable) is list:\n",
        "        variable.append(\"truc\")\n",
        "    else:\n",
        "        variable = variable*2\n",
        "    (adr_var,typ_var) = adresse(variable)\n",
        "    if adr_var != adres:\n",
        "        print(\"La variable a été recréée à l'intérieur de la fonction :\")\n",
        "        print(\"\\tSon type est \",typ_var)\n",
        "        print(\"\\tL'adresse locale (dans la fonction) est \",adr_var,\" alors que l'adresse dans le programme principal est \",adres)\n",
        "    else:\n",
        "        print(\"La variable n'a pas été recréée à l'intérieur de la fonction\")\n",
        "        print(\"\\tLa variable a pour adresse globale \",adres,\\\n",
        "              \" aussi bien dans la fonction que dans le programme principal\")\n",
        "    return\n",
        "\n",
        "var = 1    #à tester avec entier, flottant, chaîne, liste\n",
        "sauve_var = copy(var)\n",
        "(adr_v,typ_v) = adresse(var)\n",
        "print(\"la variable var est un \",typ_v,\" d'adresse \",adr_v)\n",
        "double_ou_rien(var,adr_v)\n",
        "\n",
        "print(\"\\nRetour de fonction \")\n",
        "if var == sauve_var :\n",
        "    print(\"Pour une variable de type \",typ_v,\" la fonction n'a pas modifié la valeur de la variable.\")\n",
        "    print(\"Avant ou après exécution, var = \",var)\n",
        "else:\n",
        "    print(\"Pour une variable de type \",typ_v,\" la fonction a modifié la valeur de la variable.\")\n",
        "    print(\"Avant exécution, var = \",sauve_var)\n",
        "    print(\"Après exécution var = \",var)"
      ],
      "outputs": [],
      "execution_count": null,
      "metadata": {}
    },
    {
      "cell_type": "markdown",
      "source": [
        "__Lors du passage d'une liste en paramètre, on dit qu'il y a _effet de bord_.__"
      ],
      "metadata": {}
    },
    {
      "cell_type": "markdown",
      "source": [
        "## Copie de matrices\n",
        "Testons le résultat de l'instruction `matrice_2 = matrice_1[:]`"
      ],
      "metadata": {}
    },
    {
      "cell_type": "code",
      "source": [
        "matrice_1 = [[1,2,3],[10,20,30]]\n",
        "matrice_2 = matrice_1[:]     #TEST de la copie\n",
        "(adr_1,typ_1) = adresse(matrice_1)\n",
        "(adr_2,typ_2) = adresse(matrice_2)\n",
        "print(\"la variable matrice_1 est un \",typ_1,\" d'adresse \",adr_1)\n",
        "print(\"la variable matrice_2 est un \",typ_2,\" d'adresse \",adr_2)\n",
        "print(\"Adresses des lignes\")\n",
        "(adr_10,typ_10) = adresse(matrice_1[0])\n",
        "(adr_11,typ_11) = adresse(matrice_1[1])\n",
        "(adr_20,typ_20) = adresse(matrice_2[0])\n",
        "(adr_21,typ_21) = adresse(matrice_2[1])\n",
        "print(\"adresse de la ligne 0 de matrice_1\",adr_10)\n",
        "print(\"adresse de la ligne 1 de matrice_1\",adr_11)\n",
        "print(\"adresse de la ligne 0 de matrice_2\",adr_20)\n",
        "print(\"adresse de la ligne 1 de matrice_2\",adr_21)\n",
        "print(\"essai de modification de la valeur de matrice_2 uniquement : \")\n",
        "matrice_2[1][0]= 35\n",
        "print(\"matrice_1 \",matrice_1)\n",
        "print(\"matrice_2 \",matrice_2)"
      ],
      "outputs": [],
      "execution_count": null,
      "metadata": {}
    },
    {
      "cell_type": "markdown",
      "source": [
        "Le résultat est-il celui attendu ?  \n",
        "Quel est le problème rencontré :\n",
        "\n",
        "Testez avec la méthode `.copy()` comme ci-dessus pour les listes simples, et conclure :"
      ],
      "metadata": {}
    },
    {
      "cell_type": "code",
      "source": [
        "matrice_1 = [[1,2,3],[10,20,30]]\n",
        "matrice_2 = matrice_1.copy()\n",
        "(adr_1,typ_1) = adresse(matrice_1)\n",
        "(adr_2,typ_2) = adresse(matrice_2)\n",
        "print(\"la variable matrice_1 est un \",typ_1,\" d'adresse \",adr_1)\n",
        "print(\"la variable matrice_2 est un \",typ_2,\" d'adresse \",adr_2)\n",
        "print(\"Adresses des lignes\")\n",
        "(adr_10,typ_10) = adresse(matrice_1[0])\n",
        "(adr_11,typ_11) = adresse(matrice_1[1])\n",
        "(adr_20,typ_20) = adresse(matrice_2[0])\n",
        "(adr_21,typ_21) = adresse(matrice_2[1])\n",
        "print(\"adresse de la ligne 0 de matrice_1\",adr_10)\n",
        "print(\"adresse de la ligne 1 de matrice_1\",adr_11)\n",
        "print(\"adresse de la ligne 0 de matrice_2\",adr_20)\n",
        "print(\"adresse de la ligne 1 de matrice_2\",adr_21)\n",
        "print(\"essai de modification de la valeur de matrice_2 uniquement : \")\n",
        "matrice_2[1][0]= 35\n",
        "print(\"matrice_1 \",matrice_1)\n",
        "print(\"matrice_2 \",matrice_2)"
      ],
      "outputs": [],
      "execution_count": null,
      "metadata": {}
    },
    {
      "cell_type": "markdown",
      "source": [
        "Conclusion :  \n",
        "Ecrire un programme qui permet de faire une copie dite \"profonde\", c'est à dire dans laquelle la matrice 1 n'est pas modifiée si l'on modifie la matrice 2"
      ],
      "metadata": {}
    },
    {
      "cell_type": "code",
      "source": [],
      "outputs": [],
      "execution_count": null,
      "metadata": {}
    },
    {
      "cell_type": "markdown",
      "source": [
        "Il existe une méthode pour copier correctement les matrices : `.deepcopy()`\n",
        "Testez ci-dessous"
      ],
      "metadata": {}
    },
    {
      "cell_type": "code",
      "source": [
        "from copy import deepcopy\n",
        "matrice_1 = [[1,2,3],[10,20,30]]\n",
        "matrice_2 = deepcopy(matrice_1)\n",
        "(adr_1,typ_1) = adresse(matrice_1)\n",
        "(adr_2,typ_2) = adresse(matrice_2)\n",
        "print(\"la variable matrice_1 est un \",typ_1,\" d'adresse \",adr_1)\n",
        "print(\"la variable matrice_2 est un \",typ_2,\" d'adresse \",adr_2)\n",
        "print(\"Adresses des lignes\")\n",
        "(adr_10,typ_10) = adresse(matrice_1[0])\n",
        "(adr_11,typ_11) = adresse(matrice_1[1])\n",
        "(adr_20,typ_20) = adresse(matrice_2[0])\n",
        "(adr_21,typ_21) = adresse(matrice_2[1])\n",
        "print(\"adresse de la ligne 0 de matrice_1\",adr_10)\n",
        "print(\"adresse de la ligne 1 de matrice_1\",adr_11)\n",
        "print(\"adresse de la ligne 0 de matrice_2\",adr_20)\n",
        "print(\"adresse de la ligne 1 de matrice_2\",adr_21)\n",
        "print(\"modification de la valeur de matrice_2\")\n",
        "matrice_2[1][0]= 35\n",
        "print(\"matrice_1 \",matrice_1)\n",
        "print(\"matrice_2 \",matrice_2)\n",
        "(adr_2,typ_2) = adresse(matrice_2)\n",
        "print(\"la variable matrice_1 est un \",typ_1,\" d'adresse \",adr_1)\n",
        "print(\"la variable matrice_2 est un \",typ_2,\" d'adresse \",adr_2)"
      ],
      "outputs": [],
      "execution_count": null,
      "metadata": {}
    },
    {
      "cell_type": "markdown",
      "source": [
        "<hr style=\"color:black; height:1px\" /> \n",
        "<div style=\"float:left;margin:0 10px 10px 0\" markdown=\"1\">\n",
        "[![Licence CC BY NC SA](https://licensebuttons.net/l/by-nc-sa/3.0/88x31.png \"licence Creative Commons CC BY SA\")](http://creativecommons.org/licenses/by-nc-sa/3.0/fr/)</div>\n",
        "[**Frederic Mandon**](mailto:frederic.mandon@ac-montpellier.fr), Lycée Jean Jaurès - Saint Clément de Rivière - France (2015-2019)"
      ],
      "metadata": {}
    }
  ],
  "metadata": {
    "kernelspec": {
      "name": "python3",
      "language": "python",
      "display_name": "Python 3"
    },
    "language_info": {
      "name": "python",
      "version": "3.6.4",
      "mimetype": "text/x-python",
      "codemirror_mode": {
        "name": "ipython",
        "version": 3
      },
      "pygments_lexer": "ipython3",
      "nbconvert_exporter": "python",
      "file_extension": ".py"
    },
    "kernel_info": {
      "name": "python3"
    },
    "nteract": {
      "version": "0.15.0"
    }
  },
  "nbformat": 4,
  "nbformat_minor": 2
}